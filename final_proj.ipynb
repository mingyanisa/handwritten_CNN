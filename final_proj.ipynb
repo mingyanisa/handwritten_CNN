{
 "cells": [
  {
   "cell_type": "code",
   "execution_count": 3,
   "metadata": {},
   "outputs": [
    {
     "name": "stdout",
     "output_type": "stream",
     "text": [
      "Collecting tensorflow\n",
      "\u001b[?25l  Downloading https://files.pythonhosted.org/packages/2a/5c/f1d66de5dde6f3ff528f6ea1fd0757a0e594d17debb3ec7f82daa967ea9a/tensorflow-2.0.0-cp37-cp37m-manylinux2010_x86_64.whl (86.3MB)\n",
      "\u001b[K     |████████████████████████████████| 86.3MB 9.0MB/s eta 0:00:014   |██▎                             | 6.1MB 1.7MB/s eta 0:00:48     |███                             | 7.9MB 3.6MB/s eta 0:00:22     |███▌                            | 9.5MB 3.6MB/s eta 0:00:22     |█████▊                          | 15.6MB 8.6MB/s eta 0:00:09     |██████                          | 16.2MB 8.6MB/s eta 0:00:09     |██████▋                         | 17.9MB 8.6MB/s eta 0:00:08     |███████▌                        | 20.2MB 10.5MB/s eta 0:00:07��██▉             | 50.8MB 1.2MB/s eta 0:00:29     |███████████████████             | 51.4MB 1.2MB/s eta 0:00:29     |███████████████████▎            | 52.1MB 1.2MB/s eta 0:00:28     |████████████████████▏           | 54.4MB 7.2MB/s eta 0:00:05     |█████████████████████▋          | 58.3MB 7.2MB/s eta 0:00:04     |██████████████████████▍         | 60.4MB 6.0MB/s eta 0:00:05     |███████████████████████████▌    | 74.2MB 7.6MB/s eta 0:00:02\n",
      "\u001b[?25hCollecting tensorflow-estimator<2.1.0,>=2.0.0 (from tensorflow)\n",
      "\u001b[?25l  Downloading https://files.pythonhosted.org/packages/fc/08/8b927337b7019c374719145d1dceba21a8bb909b93b1ad6f8fb7d22c1ca1/tensorflow_estimator-2.0.1-py2.py3-none-any.whl (449kB)\n",
      "\u001b[K     |████████████████████████████████| 450kB 3.1MB/s eta 0:00:01\n",
      "\u001b[?25hCollecting tensorboard<2.1.0,>=2.0.0 (from tensorflow)\n",
      "\u001b[?25l  Downloading https://files.pythonhosted.org/packages/d3/9e/a48cd34dd7b672ffc227b566f7d16d63c62c58b542d54efa45848c395dd4/tensorboard-2.0.1-py3-none-any.whl (3.8MB)\n",
      "\u001b[K     |████████████████████████████████| 3.8MB 5.6MB/s eta 0:00:01     |████████                        | 952kB 5.6MB/s eta 0:00:01     |████████████                    | 1.4MB 5.6MB/s eta 0:00:01\n",
      "\u001b[?25hCollecting grpcio>=1.8.6 (from tensorflow)\n",
      "\u001b[?25l  Downloading https://files.pythonhosted.org/packages/b9/ba/254011b066e6675411ba913dafd6e40ce8d3235bebf64fb226a7305f29ac/grpcio-1.24.3-cp37-cp37m-manylinux2010_x86_64.whl (2.2MB)\n",
      "\u001b[K     |████████████████████████████████| 2.2MB 6.7MB/s eta 0:00:01\n",
      "\u001b[?25hRequirement already satisfied: wheel>=0.26 in /opt/conda/lib/python3.7/site-packages (from tensorflow) (0.33.4)\n",
      "Collecting termcolor>=1.1.0 (from tensorflow)\n",
      "  Downloading https://files.pythonhosted.org/packages/8a/48/a76be51647d0eb9f10e2a4511bf3ffb8cc1e6b14e9e4fab46173aa79f981/termcolor-1.1.0.tar.gz\n",
      "Requirement already satisfied: numpy<2.0,>=1.16.0 in /opt/conda/lib/python3.7/site-packages (from tensorflow) (1.17.2)\n",
      "Collecting opt-einsum>=2.3.2 (from tensorflow)\n",
      "\u001b[?25l  Downloading https://files.pythonhosted.org/packages/b8/83/755bd5324777875e9dff19c2e59daec837d0378c09196634524a3d7269ac/opt_einsum-3.1.0.tar.gz (69kB)\n",
      "\u001b[K     |████████████████████████████████| 71kB 7.2MB/s eta 0:00:011\n",
      "\u001b[?25hRequirement already satisfied: protobuf>=3.6.1 in /opt/conda/lib/python3.7/site-packages (from tensorflow) (3.9.1)\n",
      "Collecting gast==0.2.2 (from tensorflow)\n",
      "  Downloading https://files.pythonhosted.org/packages/4e/35/11749bf99b2d4e3cceb4d55ca22590b0d7c2c62b9de38ac4a4a7f4687421/gast-0.2.2.tar.gz\n",
      "Requirement already satisfied: six>=1.10.0 in /opt/conda/lib/python3.7/site-packages (from tensorflow) (1.12.0)\n",
      "Collecting wrapt>=1.11.1 (from tensorflow)\n",
      "  Downloading https://files.pythonhosted.org/packages/23/84/323c2415280bc4fc880ac5050dddfb3c8062c2552b34c2e512eb4aa68f79/wrapt-1.11.2.tar.gz\n",
      "Collecting google-pasta>=0.1.6 (from tensorflow)\n",
      "\u001b[?25l  Downloading https://files.pythonhosted.org/packages/d0/33/376510eb8d6246f3c30545f416b2263eee461e40940c2a4413c711bdf62d/google_pasta-0.1.7-py3-none-any.whl (52kB)\n",
      "\u001b[K     |████████████████████████████████| 61kB 13.2MB/s eta 0:00:01\n",
      "\u001b[?25hCollecting astor>=0.6.0 (from tensorflow)\n",
      "  Downloading https://files.pythonhosted.org/packages/d1/4f/950dfae467b384fc96bc6469de25d832534f6b4441033c39f914efd13418/astor-0.8.0-py2.py3-none-any.whl\n",
      "Collecting keras-preprocessing>=1.0.5 (from tensorflow)\n",
      "\u001b[?25l  Downloading https://files.pythonhosted.org/packages/28/6a/8c1f62c37212d9fc441a7e26736df51ce6f0e38455816445471f10da4f0a/Keras_Preprocessing-1.1.0-py2.py3-none-any.whl (41kB)\n",
      "\u001b[K     |████████████████████████████████| 51kB 9.9MB/s  eta 0:00:01\n",
      "\u001b[?25hCollecting keras-applications>=1.0.8 (from tensorflow)\n",
      "\u001b[?25l  Downloading https://files.pythonhosted.org/packages/71/e3/19762fdfc62877ae9102edf6342d71b28fbfd9dea3d2f96a882ce099b03f/Keras_Applications-1.0.8-py3-none-any.whl (50kB)\n",
      "\u001b[K     |████████████████████████████████| 51kB 10.7MB/s eta 0:00:01\n",
      "\u001b[?25hCollecting absl-py>=0.7.0 (from tensorflow)\n",
      "\u001b[?25l  Downloading https://files.pythonhosted.org/packages/3b/72/e6e483e2db953c11efa44ee21c5fdb6505c4dffa447b4263ca8af6676b62/absl-py-0.8.1.tar.gz (103kB)\n",
      "\u001b[K     |████████████████████████████████| 112kB 21.3MB/s eta 0:00:01\n",
      "\u001b[?25hCollecting google-auth<2,>=1.6.3 (from tensorboard<2.1.0,>=2.0.0->tensorflow)\n",
      "\u001b[?25l  Downloading https://files.pythonhosted.org/packages/c5/9b/ed0516cc1f7609fb0217e3057ff4f0f9f3e3ce79a369c6af4a6c5ca25664/google_auth-1.6.3-py2.py3-none-any.whl (73kB)\n",
      "\u001b[K     |████████████████████████████████| 81kB 12.5MB/s eta 0:00:01\n",
      "\u001b[?25hCollecting werkzeug>=0.11.15 (from tensorboard<2.1.0,>=2.0.0->tensorflow)\n",
      "\u001b[?25l  Downloading https://files.pythonhosted.org/packages/ce/42/3aeda98f96e85fd26180534d36570e4d18108d62ae36f87694b476b83d6f/Werkzeug-0.16.0-py2.py3-none-any.whl (327kB)\n",
      "\u001b[K     |████████████████████████████████| 327kB 10.0MB/s eta 0:00:01\n",
      "\u001b[?25hRequirement already satisfied: setuptools>=41.0.0 in /opt/conda/lib/python3.7/site-packages (from tensorboard<2.1.0,>=2.0.0->tensorflow) (41.0.1)\n",
      "Collecting markdown>=2.6.8 (from tensorboard<2.1.0,>=2.0.0->tensorflow)\n",
      "\u001b[?25l  Downloading https://files.pythonhosted.org/packages/c0/4e/fd492e91abdc2d2fcb70ef453064d980688762079397f779758e055f6575/Markdown-3.1.1-py2.py3-none-any.whl (87kB)\n",
      "\u001b[K     |████████████████████████████████| 92kB 15.7MB/s eta 0:00:01\n",
      "\u001b[?25hCollecting google-auth-oauthlib<0.5,>=0.4.1 (from tensorboard<2.1.0,>=2.0.0->tensorflow)\n",
      "  Downloading https://files.pythonhosted.org/packages/7b/b8/88def36e74bee9fce511c9519571f4e485e890093ab7442284f4ffaef60b/google_auth_oauthlib-0.4.1-py2.py3-none-any.whl\n",
      "Requirement already satisfied: h5py in /opt/conda/lib/python3.7/site-packages (from keras-applications>=1.0.8->tensorflow) (2.9.0)\n",
      "Collecting pyasn1-modules>=0.2.1 (from google-auth<2,>=1.6.3->tensorboard<2.1.0,>=2.0.0->tensorflow)\n",
      "\u001b[?25l  Downloading https://files.pythonhosted.org/packages/52/50/bb4cefca37da63a0c52218ba2cb1b1c36110d84dcbae8aa48cd67c5e95c2/pyasn1_modules-0.2.7-py2.py3-none-any.whl (131kB)\n",
      "\u001b[K     |████████████████████████████████| 133kB 8.9MB/s eta 0:00:01\n",
      "\u001b[?25hCollecting cachetools>=2.0.0 (from google-auth<2,>=1.6.3->tensorboard<2.1.0,>=2.0.0->tensorflow)\n",
      "  Downloading https://files.pythonhosted.org/packages/2f/a6/30b0a0bef12283e83e58c1d6e7b5aabc7acfc4110df81a4471655d33e704/cachetools-3.1.1-py2.py3-none-any.whl\n",
      "Collecting rsa>=3.1.4 (from google-auth<2,>=1.6.3->tensorboard<2.1.0,>=2.0.0->tensorflow)\n",
      "  Downloading https://files.pythonhosted.org/packages/02/e5/38518af393f7c214357079ce67a317307936896e961e35450b70fad2a9cf/rsa-4.0-py2.py3-none-any.whl\n",
      "Collecting requests-oauthlib>=0.7.0 (from google-auth-oauthlib<0.5,>=0.4.1->tensorboard<2.1.0,>=2.0.0->tensorflow)\n",
      "  Downloading https://files.pythonhosted.org/packages/c2/e2/9fd03d55ffb70fe51f587f20bcf407a6927eb121de86928b34d162f0b1ac/requests_oauthlib-1.2.0-py2.py3-none-any.whl\n",
      "Collecting pyasn1<0.5.0,>=0.4.6 (from pyasn1-modules>=0.2.1->google-auth<2,>=1.6.3->tensorboard<2.1.0,>=2.0.0->tensorflow)\n",
      "\u001b[?25l  Downloading https://files.pythonhosted.org/packages/a1/71/8f0d444e3a74e5640a3d5d967c1c6b015da9c655f35b2d308a55d907a517/pyasn1-0.4.7-py2.py3-none-any.whl (76kB)\n",
      "\u001b[K     |████████████████████████████████| 81kB 14.2MB/s eta 0:00:01\n",
      "\u001b[?25hRequirement already satisfied: requests>=2.0.0 in /opt/conda/lib/python3.7/site-packages (from requests-oauthlib>=0.7.0->google-auth-oauthlib<0.5,>=0.4.1->tensorboard<2.1.0,>=2.0.0->tensorflow) (2.22.0)\n",
      "Requirement already satisfied: oauthlib>=3.0.0 in /opt/conda/lib/python3.7/site-packages (from requests-oauthlib>=0.7.0->google-auth-oauthlib<0.5,>=0.4.1->tensorboard<2.1.0,>=2.0.0->tensorflow) (3.0.1)\n",
      "Requirement already satisfied: urllib3!=1.25.0,!=1.25.1,<1.26,>=1.21.1 in /opt/conda/lib/python3.7/site-packages (from requests>=2.0.0->requests-oauthlib>=0.7.0->google-auth-oauthlib<0.5,>=0.4.1->tensorboard<2.1.0,>=2.0.0->tensorflow) (1.25.3)\n",
      "Requirement already satisfied: chardet<3.1.0,>=3.0.2 in /opt/conda/lib/python3.7/site-packages (from requests>=2.0.0->requests-oauthlib>=0.7.0->google-auth-oauthlib<0.5,>=0.4.1->tensorboard<2.1.0,>=2.0.0->tensorflow) (3.0.4)\n",
      "Requirement already satisfied: certifi>=2017.4.17 in /opt/conda/lib/python3.7/site-packages (from requests>=2.0.0->requests-oauthlib>=0.7.0->google-auth-oauthlib<0.5,>=0.4.1->tensorboard<2.1.0,>=2.0.0->tensorflow) (2019.6.16)\n",
      "Requirement already satisfied: idna<2.9,>=2.5 in /opt/conda/lib/python3.7/site-packages (from requests>=2.0.0->requests-oauthlib>=0.7.0->google-auth-oauthlib<0.5,>=0.4.1->tensorboard<2.1.0,>=2.0.0->tensorflow) (2.8)\n",
      "Building wheels for collected packages: termcolor, opt-einsum, gast, wrapt, absl-py\n",
      "  Building wheel for termcolor (setup.py) ... \u001b[?25ldone\n",
      "\u001b[?25h  Created wheel for termcolor: filename=termcolor-1.1.0-cp37-none-any.whl size=4831 sha256=c64642de01ba5c69cbecfe9ad4428656089bfbfbb8ce54923add988ff5f10469\n",
      "  Stored in directory: /home/jovyan/.cache/pip/wheels/7c/06/54/bc84598ba1daf8f970247f550b175aaaee85f68b4b0c5ab2c6\n",
      "  Building wheel for opt-einsum (setup.py) ... \u001b[?25ldone\n",
      "\u001b[?25h  Created wheel for opt-einsum: filename=opt_einsum-3.1.0-cp37-none-any.whl size=61681 sha256=99b94a0db2cb0325b31d398a2abc0da5ef2b57ece90546aa919276ff19461f3c\n",
      "  Stored in directory: /home/jovyan/.cache/pip/wheels/2c/b1/94/43d03e130b929aae7ba3f8d15cbd7bc0d1cb5bb38a5c721833\n",
      "  Building wheel for gast (setup.py) ... \u001b[?25ldone\n",
      "\u001b[?25h  Created wheel for gast: filename=gast-0.2.2-cp37-none-any.whl size=7540 sha256=d6f232ecdb90011d38cd2edf2effb75dcb21eaa9b8229dd98ee9e314beaad6ad\n",
      "  Stored in directory: /home/jovyan/.cache/pip/wheels/5c/2e/7e/a1d4d4fcebe6c381f378ce7743a3ced3699feb89bcfbdadadd\n",
      "  Building wheel for wrapt (setup.py) ... \u001b[?25ldone\n",
      "\u001b[?25h  Created wheel for wrapt: filename=wrapt-1.11.2-cp37-cp37m-linux_x86_64.whl size=70688 sha256=6eea5e10f89df7a7b065c700a607768b91e67fb7dced2bbc521f673de921964a\n",
      "  Stored in directory: /home/jovyan/.cache/pip/wheels/d7/de/2e/efa132238792efb6459a96e85916ef8597fcb3d2ae51590dfd\n",
      "  Building wheel for absl-py (setup.py) ... \u001b[?25ldone\n",
      "\u001b[?25h  Created wheel for absl-py: filename=absl_py-0.8.1-cp37-none-any.whl size=121166 sha256=f3bb669f280c5858c14266353f552c591bc2ace928d326d904c5fcfc8f40764c\n",
      "  Stored in directory: /home/jovyan/.cache/pip/wheels/a7/15/a0/0a0561549ad11cdc1bc8fa1191a353efd30facf6bfb507aefc\n",
      "Successfully built termcolor opt-einsum gast wrapt absl-py\n",
      "Installing collected packages: tensorflow-estimator, pyasn1, pyasn1-modules, cachetools, rsa, google-auth, absl-py, grpcio, werkzeug, markdown, requests-oauthlib, google-auth-oauthlib, tensorboard, termcolor, opt-einsum, gast, wrapt, google-pasta, astor, keras-preprocessing, keras-applications, tensorflow\n",
      "Successfully installed absl-py-0.8.1 astor-0.8.0 cachetools-3.1.1 gast-0.2.2 google-auth-1.6.3 google-auth-oauthlib-0.4.1 google-pasta-0.1.7 grpcio-1.24.3 keras-applications-1.0.8 keras-preprocessing-1.1.0 markdown-3.1.1 opt-einsum-3.1.0 pyasn1-0.4.7 pyasn1-modules-0.2.7 requests-oauthlib-1.2.0 rsa-4.0 tensorboard-2.0.1 tensorflow-2.0.0 tensorflow-estimator-2.0.1 termcolor-1.1.0 werkzeug-0.16.0 wrapt-1.11.2\n"
     ]
    }
   ],
   "source": [
    "!pip install tensorflow"
   ]
  },
  {
   "cell_type": "code",
   "execution_count": 5,
   "metadata": {},
   "outputs": [
    {
     "name": "stdout",
     "output_type": "stream",
     "text": [
      "{'Б': 444, 'Ф': 463, 'Ж': 462, 'У': 551, 'Ъ': 459, 'П': 474, 'Э': 458, 'И': 447, 'Ь': 427, 'Ы': 415, 'О': 465, 'З': 431, 'Т': 456, 'А': 469, 'Х': 486, 'Ё': 344, 'Й': 466, 'I': 247, 'Е': 576, 'Р': 493, 'В': 487, 'Ч': 464, 'Ю': 461, 'Л': 433, 'Щ': 446, 'М': 470, 'Ш': 431, 'Н': 508, 'Я': 438, 'К': 459, 'Г': 424, 'Ц': 448, 'Д': 465, 'С': 513}\n"
     ]
    }
   ],
   "source": [
    "from __future__ import absolute_import, division, print_function, unicode_literals\n",
    "import os, os.path, PIL\n",
    "import numpy as np\n",
    "from PIL import Image\n",
    "import tensorflow as tf\n",
    "from tensorflow.keras import datasets, layers, models\n",
    "import matplotlib.pyplot as plt\n",
    "DIR = './data/Cyrillic'\n",
    "chars=os.listdir(DIR)\n",
    "count=dict()\n",
    "for char in chars:\n",
    "    count.update({char:len(os.listdir(DIR+'/'+char))})\n",
    "print(count)"
   ]
  },
  {
   "cell_type": "code",
   "execution_count": 6,
   "metadata": {},
   "outputs": [
    {
     "name": "stdout",
     "output_type": "stream",
     "text": [
      "dict_keys(['Б'])\n",
      "dict_keys(['Б', 'Ф'])\n",
      "dict_keys(['Б', 'Ф', 'Ж'])\n",
      "dict_keys(['Б', 'Ф', 'Ж', 'У'])\n",
      "dict_keys(['Б', 'Ф', 'Ж', 'У', 'Ъ'])\n",
      "dict_keys(['Б', 'Ф', 'Ж', 'У', 'Ъ', 'П'])\n",
      "dict_keys(['Б', 'Ф', 'Ж', 'У', 'Ъ', 'П', 'Э'])\n",
      "dict_keys(['Б', 'Ф', 'Ж', 'У', 'Ъ', 'П', 'Э', 'И'])\n",
      "dict_keys(['Б', 'Ф', 'Ж', 'У', 'Ъ', 'П', 'Э', 'И', 'Ь'])\n",
      "dict_keys(['Б', 'Ф', 'Ж', 'У', 'Ъ', 'П', 'Э', 'И', 'Ь', 'Ы'])\n",
      "dict_keys(['Б', 'Ф', 'Ж', 'У', 'Ъ', 'П', 'Э', 'И', 'Ь', 'Ы', 'О'])\n",
      "dict_keys(['Б', 'Ф', 'Ж', 'У', 'Ъ', 'П', 'Э', 'И', 'Ь', 'Ы', 'О', 'З'])\n",
      "dict_keys(['Б', 'Ф', 'Ж', 'У', 'Ъ', 'П', 'Э', 'И', 'Ь', 'Ы', 'О', 'З', 'Т'])\n",
      "dict_keys(['Б', 'Ф', 'Ж', 'У', 'Ъ', 'П', 'Э', 'И', 'Ь', 'Ы', 'О', 'З', 'Т', 'А'])\n",
      "dict_keys(['Б', 'Ф', 'Ж', 'У', 'Ъ', 'П', 'Э', 'И', 'Ь', 'Ы', 'О', 'З', 'Т', 'А', 'Х'])\n",
      "dict_keys(['Б', 'Ф', 'Ж', 'У', 'Ъ', 'П', 'Э', 'И', 'Ь', 'Ы', 'О', 'З', 'Т', 'А', 'Х', 'Ё'])\n",
      "dict_keys(['Б', 'Ф', 'Ж', 'У', 'Ъ', 'П', 'Э', 'И', 'Ь', 'Ы', 'О', 'З', 'Т', 'А', 'Х', 'Ё', 'Й'])\n",
      "dict_keys(['Б', 'Ф', 'Ж', 'У', 'Ъ', 'П', 'Э', 'И', 'Ь', 'Ы', 'О', 'З', 'Т', 'А', 'Х', 'Ё', 'Й', 'I'])\n",
      "dict_keys(['Б', 'Ф', 'Ж', 'У', 'Ъ', 'П', 'Э', 'И', 'Ь', 'Ы', 'О', 'З', 'Т', 'А', 'Х', 'Ё', 'Й', 'I', 'Е'])\n",
      "dict_keys(['Б', 'Ф', 'Ж', 'У', 'Ъ', 'П', 'Э', 'И', 'Ь', 'Ы', 'О', 'З', 'Т', 'А', 'Х', 'Ё', 'Й', 'I', 'Е', 'Р'])\n",
      "dict_keys(['Б', 'Ф', 'Ж', 'У', 'Ъ', 'П', 'Э', 'И', 'Ь', 'Ы', 'О', 'З', 'Т', 'А', 'Х', 'Ё', 'Й', 'I', 'Е', 'Р', 'В'])\n",
      "dict_keys(['Б', 'Ф', 'Ж', 'У', 'Ъ', 'П', 'Э', 'И', 'Ь', 'Ы', 'О', 'З', 'Т', 'А', 'Х', 'Ё', 'Й', 'I', 'Е', 'Р', 'В', 'Ч'])\n",
      "dict_keys(['Б', 'Ф', 'Ж', 'У', 'Ъ', 'П', 'Э', 'И', 'Ь', 'Ы', 'О', 'З', 'Т', 'А', 'Х', 'Ё', 'Й', 'I', 'Е', 'Р', 'В', 'Ч', 'Ю'])\n",
      "dict_keys(['Б', 'Ф', 'Ж', 'У', 'Ъ', 'П', 'Э', 'И', 'Ь', 'Ы', 'О', 'З', 'Т', 'А', 'Х', 'Ё', 'Й', 'I', 'Е', 'Р', 'В', 'Ч', 'Ю', 'Л'])\n",
      "dict_keys(['Б', 'Ф', 'Ж', 'У', 'Ъ', 'П', 'Э', 'И', 'Ь', 'Ы', 'О', 'З', 'Т', 'А', 'Х', 'Ё', 'Й', 'I', 'Е', 'Р', 'В', 'Ч', 'Ю', 'Л', 'Щ'])\n",
      "dict_keys(['Б', 'Ф', 'Ж', 'У', 'Ъ', 'П', 'Э', 'И', 'Ь', 'Ы', 'О', 'З', 'Т', 'А', 'Х', 'Ё', 'Й', 'I', 'Е', 'Р', 'В', 'Ч', 'Ю', 'Л', 'Щ', 'М'])\n",
      "dict_keys(['Б', 'Ф', 'Ж', 'У', 'Ъ', 'П', 'Э', 'И', 'Ь', 'Ы', 'О', 'З', 'Т', 'А', 'Х', 'Ё', 'Й', 'I', 'Е', 'Р', 'В', 'Ч', 'Ю', 'Л', 'Щ', 'М', 'Ш'])\n",
      "dict_keys(['Б', 'Ф', 'Ж', 'У', 'Ъ', 'П', 'Э', 'И', 'Ь', 'Ы', 'О', 'З', 'Т', 'А', 'Х', 'Ё', 'Й', 'I', 'Е', 'Р', 'В', 'Ч', 'Ю', 'Л', 'Щ', 'М', 'Ш', 'Н'])\n",
      "dict_keys(['Б', 'Ф', 'Ж', 'У', 'Ъ', 'П', 'Э', 'И', 'Ь', 'Ы', 'О', 'З', 'Т', 'А', 'Х', 'Ё', 'Й', 'I', 'Е', 'Р', 'В', 'Ч', 'Ю', 'Л', 'Щ', 'М', 'Ш', 'Н', 'Я'])\n",
      "dict_keys(['Б', 'Ф', 'Ж', 'У', 'Ъ', 'П', 'Э', 'И', 'Ь', 'Ы', 'О', 'З', 'Т', 'А', 'Х', 'Ё', 'Й', 'I', 'Е', 'Р', 'В', 'Ч', 'Ю', 'Л', 'Щ', 'М', 'Ш', 'Н', 'Я', 'К'])\n",
      "dict_keys(['Б', 'Ф', 'Ж', 'У', 'Ъ', 'П', 'Э', 'И', 'Ь', 'Ы', 'О', 'З', 'Т', 'А', 'Х', 'Ё', 'Й', 'I', 'Е', 'Р', 'В', 'Ч', 'Ю', 'Л', 'Щ', 'М', 'Ш', 'Н', 'Я', 'К', 'Г'])\n",
      "dict_keys(['Б', 'Ф', 'Ж', 'У', 'Ъ', 'П', 'Э', 'И', 'Ь', 'Ы', 'О', 'З', 'Т', 'А', 'Х', 'Ё', 'Й', 'I', 'Е', 'Р', 'В', 'Ч', 'Ю', 'Л', 'Щ', 'М', 'Ш', 'Н', 'Я', 'К', 'Г', 'Ц'])\n",
      "dict_keys(['Б', 'Ф', 'Ж', 'У', 'Ъ', 'П', 'Э', 'И', 'Ь', 'Ы', 'О', 'З', 'Т', 'А', 'Х', 'Ё', 'Й', 'I', 'Е', 'Р', 'В', 'Ч', 'Ю', 'Л', 'Щ', 'М', 'Ш', 'Н', 'Я', 'К', 'Г', 'Ц', 'Д'])\n",
      "dict_keys(['Б', 'Ф', 'Ж', 'У', 'Ъ', 'П', 'Э', 'И', 'Ь', 'Ы', 'О', 'З', 'Т', 'А', 'Х', 'Ё', 'Й', 'I', 'Е', 'Р', 'В', 'Ч', 'Ю', 'Л', 'Щ', 'М', 'Ш', 'Н', 'Я', 'К', 'Г', 'Ц', 'Д', 'С'])\n"
     ]
    }
   ],
   "source": [
    "from skimage import io\n",
    "from skimage import img_as_float\n",
    "from skimage.transform import resize\n",
    "from PIL import Image\n",
    "\n",
    "img_collection_arr=dict()\n",
    "img_collection=dict()\n",
    "for key,value in count.items():\n",
    "    folder=os.path.join('./data/Cyrillic/',key)\n",
    "    allfiles=os.listdir(folder)\n",
    "    imlist=[filename for filename in allfiles if filename[-4:] in [\".png\",\".PNG\"]]\n",
    "    # Assuming all images are the same size, get dimensions of first image\n",
    "    for image in imlist:\n",
    "        filename=os.path.join(folder,image)\n",
    "        camera = io.imread(filename,-1)\n",
    "        image_file = Image.open(filename) # opens image  \n",
    "        img = image_file.convert('LA').resize((28,28)) # converts to grayscale w/ alpha\n",
    "        image_1=np.array(img)\n",
    "#         print(image_1.shape)\n",
    "#         MPL.imshow(img)\n",
    "#         MPL.show()\n",
    "        if(key not in img_collection_arr.keys()):\n",
    "            img_collection_arr.update({key:[image_1]})\n",
    "        else:\n",
    "            if(len(img_collection_arr[key])<200):\n",
    "                img_collection_arr[key].append(image_1)\n",
    "    print(img_collection_arr.keys())"
   ]
  },
  {
   "cell_type": "code",
   "execution_count": 12,
   "metadata": {},
   "outputs": [
    {
     "name": "stdout",
     "output_type": "stream",
     "text": [
      "{'Б': 200, 'Ф': 200, 'Ж': 200, 'У': 200, 'Ъ': 200, 'П': 200, 'Э': 200, 'И': 200, 'Ь': 200, 'Ы': 200, 'О': 200, 'З': 200, 'Т': 200, 'А': 200, 'Х': 200, 'Ё': 200, 'Й': 200, 'I': 200, 'Е': 200, 'Р': 200, 'В': 200, 'Ч': 200, 'Ю': 200, 'Л': 200, 'Щ': 200, 'М': 200, 'Ш': 200, 'Н': 200, 'Я': 200, 'К': 200, 'Г': 200, 'Ц': 200, 'Д': 200, 'С': 200}\n"
     ]
    }
   ],
   "source": [
    "count=dict()\n",
    "for key,val in img_collection_arr.items():\n",
    "    count.update({key:len(val)})\n",
    "print(count)"
   ]
  },
  {
   "cell_type": "code",
   "execution_count": 7,
   "metadata": {},
   "outputs": [],
   "source": [
    "import matplotlib.pyplot as MPL\n",
    "from sklearn.model_selection import train_test_split\n",
    "X=[];y=[]\n",
    "class_names = list(img_collection_arr.keys())\n",
    "for key,imgs in img_collection_arr.items():\n",
    "    [X.append(img) for img in imgs]\n",
    "    [y.append([class_names.index(key)]) for img in imgs]\n",
    "#     for img in imgs:\n",
    "#         print(img.shape)\n",
    "#     print(img)\n",
    "#     MPL.imshow(img)\n",
    "#     MPL.show()\n",
    "train_images, test_images, train_labels, test_labels = train_test_split(np.array(X), np.array(y), \n",
    "                                                    test_size=0.2, \n",
    "                                                    random_state=0)"
   ]
  },
  {
   "cell_type": "code",
   "execution_count": 21,
   "metadata": {},
   "outputs": [
    {
     "name": "stdout",
     "output_type": "stream",
     "text": [
      "classes: ['Б', 'Ф', 'Ж', 'У', 'Ъ', 'П', 'Э', 'И', 'Ь', 'Ы', 'О', 'З', 'Т', 'А', 'Х', 'Ё', 'Й', 'I', 'Е', 'Р', 'В', 'Ч', 'Ю', 'Л', 'Щ', 'М', 'Ш', 'Н', 'Я', 'К', 'Г', 'Ц', 'Д', 'С']\n",
      "number of category: 34\n",
      "train image collection: <class 'numpy.ndarray'> \n",
      "train image: <class 'numpy.ndarray'> \n",
      "training label collection: <class 'numpy.ndarray'> \n",
      "training label: <class 'numpy.ndarray'>\n",
      "shape of training image: (28, 28, 2)\n"
     ]
    }
   ],
   "source": [
    "print('classes:',class_names)\n",
    "print('number of category:',len(class_names))\n",
    "print(\"train image collection:\",type(train_images),\n",
    "      \"\\ntrain image:\",type(train_images[0]),\n",
    "      '\\ntraining label collection:',type(train_labels),\n",
    "      '\\ntraining label:',type(train_labels[0]))\n",
    "print('shape of training image:',train_images[0].shape)"
   ]
  },
  {
   "cell_type": "code",
   "execution_count": 9,
   "metadata": {},
   "outputs": [
    {
     "name": "stdout",
     "output_type": "stream",
     "text": [
      "Model: \"sequential\"\n",
      "_________________________________________________________________\n",
      "Layer (type)                 Output Shape              Param #   \n",
      "=================================================================\n",
      "conv2d (Conv2D)              (None, 26, 26, 32)        608       \n",
      "_________________________________________________________________\n",
      "batch_normalization (BatchNo (None, 26, 26, 32)        128       \n",
      "_________________________________________________________________\n",
      "max_pooling2d (MaxPooling2D) (None, 13, 13, 32)        0         \n",
      "_________________________________________________________________\n",
      "conv2d_1 (Conv2D)            (None, 11, 11, 64)        18496     \n",
      "_________________________________________________________________\n",
      "batch_normalization_1 (Batch (None, 11, 11, 64)        256       \n",
      "_________________________________________________________________\n",
      "max_pooling2d_1 (MaxPooling2 (None, 5, 5, 64)          0         \n",
      "_________________________________________________________________\n",
      "conv2d_2 (Conv2D)            (None, 3, 3, 64)          36928     \n",
      "_________________________________________________________________\n",
      "batch_normalization_2 (Batch (None, 3, 3, 64)          256       \n",
      "_________________________________________________________________\n",
      "flatten (Flatten)            (None, 576)               0         \n",
      "_________________________________________________________________\n",
      "dense (Dense)                (None, 64)                36928     \n",
      "_________________________________________________________________\n",
      "dense_1 (Dense)              (None, 34)                2210      \n",
      "=================================================================\n",
      "Total params: 95,810\n",
      "Trainable params: 95,490\n",
      "Non-trainable params: 320\n",
      "_________________________________________________________________\n"
     ]
    }
   ],
   "source": [
    "model = models.Sequential()\n",
    "model.add(layers.Conv2D(32, (3, 3), activation='relu', input_shape=(28, 28, 2)))\n",
    "model.add(layers.BatchNormalization())\n",
    "model.add(layers.MaxPooling2D((2, 2)))\n",
    "model.add(layers.Conv2D(64, (3, 3), activation='relu'))\n",
    "model.add(layers.BatchNormalization())\n",
    "model.add(layers.MaxPooling2D((2, 2)))\n",
    "model.add(layers.Conv2D(64, (3, 3), activation='relu'))\n",
    "model.add(layers.BatchNormalization())\n",
    "model.add(layers.Flatten())\n",
    "model.add(layers.Dense(64, activation='relu'))\n",
    "model.add(layers.Dense(len(class_names), activation='softmax'))\n",
    "model.summary()"
   ]
  },
  {
   "cell_type": "code",
   "execution_count": 10,
   "metadata": {},
   "outputs": [
    {
     "name": "stdout",
     "output_type": "stream",
     "text": [
      "Train on 5440 samples, validate on 1360 samples\n",
      "Epoch 1/10\n",
      "5440/5440 [==============================] - 12s 2ms/sample - loss: 1.8315 - accuracy: 0.5046 - val_loss: 1.2628 - val_accuracy: 0.6382\n",
      "Epoch 2/10\n",
      "5440/5440 [==============================] - 11s 2ms/sample - loss: 0.6409 - accuracy: 0.8173 - val_loss: 0.8388 - val_accuracy: 0.7574\n",
      "Epoch 3/10\n",
      "5440/5440 [==============================] - 10s 2ms/sample - loss: 0.3661 - accuracy: 0.8943 - val_loss: 0.5372 - val_accuracy: 0.8434\n",
      "Epoch 4/10\n",
      "5440/5440 [==============================] - 10s 2ms/sample - loss: 0.2052 - accuracy: 0.9474 - val_loss: 0.6008 - val_accuracy: 0.8191\n",
      "Epoch 5/10\n",
      "5440/5440 [==============================] - 11s 2ms/sample - loss: 0.1234 - accuracy: 0.9704 - val_loss: 0.4653 - val_accuracy: 0.8691\n",
      "Epoch 6/10\n",
      "5440/5440 [==============================] - 10s 2ms/sample - loss: 0.0783 - accuracy: 0.9829 - val_loss: 0.4719 - val_accuracy: 0.8618\n",
      "Epoch 7/10\n",
      "5440/5440 [==============================] - 11s 2ms/sample - loss: 0.0367 - accuracy: 0.9961 - val_loss: 0.5007 - val_accuracy: 0.8662\n",
      "Epoch 8/10\n",
      "5440/5440 [==============================] - 11s 2ms/sample - loss: 0.0177 - accuracy: 0.9987 - val_loss: 0.4323 - val_accuracy: 0.8765\n",
      "Epoch 9/10\n",
      "5440/5440 [==============================] - 10s 2ms/sample - loss: 0.0097 - accuracy: 1.0000 - val_loss: 0.4000 - val_accuracy: 0.8926\n",
      "Epoch 10/10\n",
      "5440/5440 [==============================] - 10s 2ms/sample - loss: 0.0057 - accuracy: 1.0000 - val_loss: 0.4047 - val_accuracy: 0.8853\n"
     ]
    }
   ],
   "source": [
    "model.compile(optimizer='adam',\n",
    "              loss='sparse_categorical_crossentropy',\n",
    "              metrics=['accuracy'])\n",
    "\n",
    "history = model.fit(train_images, train_labels, epochs=10, \n",
    "                    validation_data=(test_images, test_labels))"
   ]
  },
  {
   "cell_type": "code",
   "execution_count": 11,
   "metadata": {},
   "outputs": [
    {
     "name": "stdout",
     "output_type": "stream",
     "text": [
      "1360/1 - 1s - loss: 0.3869 - accuracy: 0.8853\n",
      "test accuracy: 0.88529414\n"
     ]
    },
    {
     "data": {
      "image/png": "[encoded data removed]",
      "text/plain": [
       "<Figure size 432x288 with 1 Axes>"
      ]
     },
     "metadata": {
      "needs_background": "light"
     },
     "output_type": "display_data"
    }
   ],
   "source": [
    "plt.plot(history.history['accuracy'], label='accuracy')\n",
    "plt.plot(history.history['val_accuracy'], label = 'val_accuracy')\n",
    "plt.xlabel('Epoch')\n",
    "plt.ylabel('Accuracy')\n",
    "plt.ylim([0.5, 1])\n",
    "plt.legend(loc='lower right')\n",
    "test_loss, test_acc = model.evaluate(test_images,  test_labels, verbose=2)\n",
    "\n",
    "print(\"test accuracy:\",test_acc)"
   ]
  },
  {
   "cell_type": "code",
   "execution_count": null,
   "metadata": {},
   "outputs": [],
   "source": []
  },
  {
   "cell_type": "code",
   "execution_count": null,
   "metadata": {},
   "outputs": [],
   "source": []
  },
  {
   "cell_type": "code",
   "execution_count": null,
   "metadata": {},
   "outputs": [],
   "source": []
  }
 ],
 "metadata": {
  "kernelspec": {
   "display_name": "Python 3",
   "language": "python",
   "name": "python3"
  },
  "language_info": {
   "codemirror_mode": {
    "name": "ipython",
    "version": 3
   },
   "file_extension": ".py",
   "mimetype": "text/x-python",
   "name": "python",
   "nbconvert_exporter": "python",
   "pygments_lexer": "ipython3",
   "version": "3.7.3"
  }
 },
 "nbformat": 4,
 "nbformat_minor": 2
}
